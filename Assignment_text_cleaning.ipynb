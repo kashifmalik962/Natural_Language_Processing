{
 "cells": [
  {
   "cell_type": "markdown",
   "id": "3289b9b7-15b5-43ab-a7d3-343905e1b3b8",
   "metadata": {},
   "source": [
    "## Text Preprocessing for NLP"
   ]
  },
  {
   "cell_type": "code",
   "execution_count": 180,
   "id": "bb7b5655-6016-4d94-8129-3d2a4e23639d",
   "metadata": {},
   "outputs": [],
   "source": [
    "# Importing Required Libraries\n",
    "import pandas as pd\n",
    "import requests\n",
    "import nltk\n",
    "import re"
   ]
  },
  {
   "cell_type": "code",
   "execution_count": 185,
   "id": "3355dbe6-3459-4455-9194-37f9f4a3e273",
   "metadata": {},
   "outputs": [],
   "source": [
    "# Create a empty DataFrame\n",
    "df = pd.DataFrame()"
   ]
  },
  {
   "cell_type": "code",
   "execution_count": 186,
   "id": "33f28fbc-4a48-477c-ab49-874384280bee",
   "metadata": {},
   "outputs": [],
   "source": [
    "# Fetch genre\n",
    "response = requests.get('https://api.themoviedb.org/3/genre/movie/list?api_key=8265bd1679663a7ea12ac168da84d2e8&language=en-US')"
   ]
  },
  {
   "cell_type": "code",
   "execution_count": 184,
   "id": "70edd27b-5b46-46d2-bdfb-8292db0b7658",
   "metadata": {},
   "outputs": [],
   "source": [
    "genres = response.json()['genres']"
   ]
  },
  {
   "cell_type": "markdown",
   "id": "4c8f7c7c-ebd6-4e1e-b71a-73f50da6d79d",
   "metadata": {},
   "source": [
    "### Fetching Movie Data from IMDB website via API"
   ]
  },
  {
   "cell_type": "code",
   "execution_count": 189,
   "id": "9361c8dd-bd76-4079-9828-6372019b4300",
   "metadata": {},
   "outputs": [],
   "source": [
    "for i in range(1,458):\n",
    "    dt = requests.get('https://api.themoviedb.org/3/movie/top_rated?api_key=8265bd1679663a7ea12ac168da84d2e8&language=en-US&page={}'.format(i))\n",
    "    temp_df = pd.DataFrame(dt.json()['results'])[['title','overview','genre_ids']]\n",
    "    df = pd.concat([df, temp_df], ignore_index=True)"
   ]
  },
  {
   "cell_type": "code",
   "execution_count": 192,
   "id": "ccb60975-d89f-4e35-b4d5-5fb27559bf6c",
   "metadata": {},
   "outputs": [
    {
     "data": {
      "text/html": [
       "<div>\n",
       "<style scoped>\n",
       "    .dataframe tbody tr th:only-of-type {\n",
       "        vertical-align: middle;\n",
       "    }\n",
       "\n",
       "    .dataframe tbody tr th {\n",
       "        vertical-align: top;\n",
       "    }\n",
       "\n",
       "    .dataframe thead th {\n",
       "        text-align: right;\n",
       "    }\n",
       "</style>\n",
       "<table border=\"1\" class=\"dataframe\">\n",
       "  <thead>\n",
       "    <tr style=\"text-align: right;\">\n",
       "      <th></th>\n",
       "      <th>title</th>\n",
       "      <th>overview</th>\n",
       "      <th>genre_ids</th>\n",
       "    </tr>\n",
       "  </thead>\n",
       "  <tbody>\n",
       "    <tr>\n",
       "      <th>0</th>\n",
       "      <td>The Shawshank Redemption</td>\n",
       "      <td>Framed in the 1940s for the double murder of h...</td>\n",
       "      <td>[18, 80]</td>\n",
       "    </tr>\n",
       "    <tr>\n",
       "      <th>1</th>\n",
       "      <td>The Godfather</td>\n",
       "      <td>Spanning the years 1945 to 1955, a chronicle o...</td>\n",
       "      <td>[18, 80]</td>\n",
       "    </tr>\n",
       "    <tr>\n",
       "      <th>2</th>\n",
       "      <td>The Godfather Part II</td>\n",
       "      <td>In the continuing saga of the Corleone crime f...</td>\n",
       "      <td>[18, 80]</td>\n",
       "    </tr>\n",
       "    <tr>\n",
       "      <th>3</th>\n",
       "      <td>Schindler's List</td>\n",
       "      <td>The true story of how businessman Oskar Schind...</td>\n",
       "      <td>[18, 36, 10752]</td>\n",
       "    </tr>\n",
       "    <tr>\n",
       "      <th>4</th>\n",
       "      <td>12 Angry Men</td>\n",
       "      <td>The defense and the prosecution have rested an...</td>\n",
       "      <td>[18]</td>\n",
       "    </tr>\n",
       "  </tbody>\n",
       "</table>\n",
       "</div>"
      ],
      "text/plain": [
       "                      title  \\\n",
       "0  The Shawshank Redemption   \n",
       "1             The Godfather   \n",
       "2     The Godfather Part II   \n",
       "3          Schindler's List   \n",
       "4              12 Angry Men   \n",
       "\n",
       "                                            overview        genre_ids  \n",
       "0  Framed in the 1940s for the double murder of h...         [18, 80]  \n",
       "1  Spanning the years 1945 to 1955, a chronicle o...         [18, 80]  \n",
       "2  In the continuing saga of the Corleone crime f...         [18, 80]  \n",
       "3  The true story of how businessman Oskar Schind...  [18, 36, 10752]  \n",
       "4  The defense and the prosecution have rested an...             [18]  "
      ]
     },
     "execution_count": 192,
     "metadata": {},
     "output_type": "execute_result"
    }
   ],
   "source": [
    "df.head()"
   ]
  },
  {
   "cell_type": "code",
   "execution_count": 193,
   "id": "229430f5-2512-43f2-a1c8-6c41ab0277a6",
   "metadata": {},
   "outputs": [],
   "source": [
    "# Fill genre name basis of genre id\n",
    "k = 0\n",
    "for i in df['genre_ids']:\n",
    "    for j in genres:\n",
    "        if j.get('id') in i:\n",
    "            row = df['genre_ids'][k]\n",
    "            id = row.index(j.get('id'))\n",
    "            df['genre_ids'][k][id] = j.get('name')\n",
    "    k+=1"
   ]
  },
  {
   "cell_type": "code",
   "execution_count": 194,
   "id": "ba73cc14-dd36-4e53-8251-f4b1177c90b3",
   "metadata": {},
   "outputs": [
    {
     "data": {
      "text/html": [
       "<div>\n",
       "<style scoped>\n",
       "    .dataframe tbody tr th:only-of-type {\n",
       "        vertical-align: middle;\n",
       "    }\n",
       "\n",
       "    .dataframe tbody tr th {\n",
       "        vertical-align: top;\n",
       "    }\n",
       "\n",
       "    .dataframe thead th {\n",
       "        text-align: right;\n",
       "    }\n",
       "</style>\n",
       "<table border=\"1\" class=\"dataframe\">\n",
       "  <thead>\n",
       "    <tr style=\"text-align: right;\">\n",
       "      <th></th>\n",
       "      <th>title</th>\n",
       "      <th>overview</th>\n",
       "      <th>genre_ids</th>\n",
       "    </tr>\n",
       "  </thead>\n",
       "  <tbody>\n",
       "    <tr>\n",
       "      <th>0</th>\n",
       "      <td>The Shawshank Redemption</td>\n",
       "      <td>Framed in the 1940s for the double murder of h...</td>\n",
       "      <td>[Drama, Crime]</td>\n",
       "    </tr>\n",
       "    <tr>\n",
       "      <th>1</th>\n",
       "      <td>The Godfather</td>\n",
       "      <td>Spanning the years 1945 to 1955, a chronicle o...</td>\n",
       "      <td>[Drama, Crime]</td>\n",
       "    </tr>\n",
       "    <tr>\n",
       "      <th>2</th>\n",
       "      <td>The Godfather Part II</td>\n",
       "      <td>In the continuing saga of the Corleone crime f...</td>\n",
       "      <td>[Drama, Crime]</td>\n",
       "    </tr>\n",
       "    <tr>\n",
       "      <th>3</th>\n",
       "      <td>Schindler's List</td>\n",
       "      <td>The true story of how businessman Oskar Schind...</td>\n",
       "      <td>[Drama, History, War]</td>\n",
       "    </tr>\n",
       "  </tbody>\n",
       "</table>\n",
       "</div>"
      ],
      "text/plain": [
       "                      title  \\\n",
       "0  The Shawshank Redemption   \n",
       "1             The Godfather   \n",
       "2     The Godfather Part II   \n",
       "3          Schindler's List   \n",
       "\n",
       "                                            overview              genre_ids  \n",
       "0  Framed in the 1940s for the double murder of h...         [Drama, Crime]  \n",
       "1  Spanning the years 1945 to 1955, a chronicle o...         [Drama, Crime]  \n",
       "2  In the continuing saga of the Corleone crime f...         [Drama, Crime]  \n",
       "3  The true story of how businessman Oskar Schind...  [Drama, History, War]  "
      ]
     },
     "execution_count": 194,
     "metadata": {},
     "output_type": "execute_result"
    }
   ],
   "source": [
    "df.head(4)"
   ]
  },
  {
   "cell_type": "code",
   "execution_count": 195,
   "id": "15b8592c-4fd8-4335-b17d-c0aaca35ea33",
   "metadata": {},
   "outputs": [
    {
     "data": {
      "text/html": [
       "<div>\n",
       "<style scoped>\n",
       "    .dataframe tbody tr th:only-of-type {\n",
       "        vertical-align: middle;\n",
       "    }\n",
       "\n",
       "    .dataframe tbody tr th {\n",
       "        vertical-align: top;\n",
       "    }\n",
       "\n",
       "    .dataframe thead th {\n",
       "        text-align: right;\n",
       "    }\n",
       "</style>\n",
       "<table border=\"1\" class=\"dataframe\">\n",
       "  <thead>\n",
       "    <tr style=\"text-align: right;\">\n",
       "      <th></th>\n",
       "      <th>title</th>\n",
       "      <th>overview</th>\n",
       "      <th>genre_ids</th>\n",
       "    </tr>\n",
       "  </thead>\n",
       "  <tbody>\n",
       "    <tr>\n",
       "      <th>0</th>\n",
       "      <td>The Shawshank Redemption</td>\n",
       "      <td>Framed in the 1940s for the double murder of h...</td>\n",
       "      <td>Drama Crime</td>\n",
       "    </tr>\n",
       "    <tr>\n",
       "      <th>1</th>\n",
       "      <td>The Godfather</td>\n",
       "      <td>Spanning the years 1945 to 1955, a chronicle o...</td>\n",
       "      <td>Drama Crime</td>\n",
       "    </tr>\n",
       "    <tr>\n",
       "      <th>2</th>\n",
       "      <td>The Godfather Part II</td>\n",
       "      <td>In the continuing saga of the Corleone crime f...</td>\n",
       "      <td>Drama Crime</td>\n",
       "    </tr>\n",
       "    <tr>\n",
       "      <th>3</th>\n",
       "      <td>Schindler's List</td>\n",
       "      <td>The true story of how businessman Oskar Schind...</td>\n",
       "      <td>Drama History War</td>\n",
       "    </tr>\n",
       "    <tr>\n",
       "      <th>4</th>\n",
       "      <td>12 Angry Men</td>\n",
       "      <td>The defense and the prosecution have rested an...</td>\n",
       "      <td>Drama</td>\n",
       "    </tr>\n",
       "  </tbody>\n",
       "</table>\n",
       "</div>"
      ],
      "text/plain": [
       "                      title  \\\n",
       "0  The Shawshank Redemption   \n",
       "1             The Godfather   \n",
       "2     The Godfather Part II   \n",
       "3          Schindler's List   \n",
       "4              12 Angry Men   \n",
       "\n",
       "                                            overview          genre_ids  \n",
       "0  Framed in the 1940s for the double murder of h...        Drama Crime  \n",
       "1  Spanning the years 1945 to 1955, a chronicle o...        Drama Crime  \n",
       "2  In the continuing saga of the Corleone crime f...        Drama Crime  \n",
       "3  The true story of how businessman Oskar Schind...  Drama History War  \n",
       "4  The defense and the prosecution have rested an...              Drama  "
      ]
     },
     "execution_count": 195,
     "metadata": {},
     "output_type": "execute_result"
    }
   ],
   "source": [
    "# List of string convert into string\n",
    "df['genre_ids'] = df['genre_ids'].apply(lambda x: \" \".join(x))\n",
    "df.head()"
   ]
  },
  {
   "cell_type": "code",
   "execution_count": 196,
   "id": "081a8fdc-0bd0-4a9d-9172-b672970c13cf",
   "metadata": {},
   "outputs": [],
   "source": [
    "# Lowercasing the Data\n",
    "df['title'] = df['title'].apply(lambda x: x.lower())\n",
    "df['overview'] = df['overview'].apply(lambda x: x.lower())\n",
    "df['genre_ids'] = df['genre_ids'].apply(lambda x: x.lower())"
   ]
  },
  {
   "cell_type": "code",
   "execution_count": 197,
   "id": "2f73b200-5781-4fb7-9b93-0eea42ce6967",
   "metadata": {},
   "outputs": [
    {
     "data": {
      "text/html": [
       "<div>\n",
       "<style scoped>\n",
       "    .dataframe tbody tr th:only-of-type {\n",
       "        vertical-align: middle;\n",
       "    }\n",
       "\n",
       "    .dataframe tbody tr th {\n",
       "        vertical-align: top;\n",
       "    }\n",
       "\n",
       "    .dataframe thead th {\n",
       "        text-align: right;\n",
       "    }\n",
       "</style>\n",
       "<table border=\"1\" class=\"dataframe\">\n",
       "  <thead>\n",
       "    <tr style=\"text-align: right;\">\n",
       "      <th></th>\n",
       "      <th>title</th>\n",
       "      <th>overview</th>\n",
       "      <th>genre_ids</th>\n",
       "    </tr>\n",
       "  </thead>\n",
       "  <tbody>\n",
       "    <tr>\n",
       "      <th>0</th>\n",
       "      <td>the shawshank redemption</td>\n",
       "      <td>framed in the 1940s for the double murder of h...</td>\n",
       "      <td>drama crime</td>\n",
       "    </tr>\n",
       "    <tr>\n",
       "      <th>1</th>\n",
       "      <td>the godfather</td>\n",
       "      <td>spanning the years 1945 to 1955, a chronicle o...</td>\n",
       "      <td>drama crime</td>\n",
       "    </tr>\n",
       "    <tr>\n",
       "      <th>2</th>\n",
       "      <td>the godfather part ii</td>\n",
       "      <td>in the continuing saga of the corleone crime f...</td>\n",
       "      <td>drama crime</td>\n",
       "    </tr>\n",
       "    <tr>\n",
       "      <th>3</th>\n",
       "      <td>schindler's list</td>\n",
       "      <td>the true story of how businessman oskar schind...</td>\n",
       "      <td>drama history war</td>\n",
       "    </tr>\n",
       "    <tr>\n",
       "      <th>4</th>\n",
       "      <td>12 angry men</td>\n",
       "      <td>the defense and the prosecution have rested an...</td>\n",
       "      <td>drama</td>\n",
       "    </tr>\n",
       "  </tbody>\n",
       "</table>\n",
       "</div>"
      ],
      "text/plain": [
       "                      title  \\\n",
       "0  the shawshank redemption   \n",
       "1             the godfather   \n",
       "2     the godfather part ii   \n",
       "3          schindler's list   \n",
       "4              12 angry men   \n",
       "\n",
       "                                            overview          genre_ids  \n",
       "0  framed in the 1940s for the double murder of h...        drama crime  \n",
       "1  spanning the years 1945 to 1955, a chronicle o...        drama crime  \n",
       "2  in the continuing saga of the corleone crime f...        drama crime  \n",
       "3  the true story of how businessman oskar schind...  drama history war  \n",
       "4  the defense and the prosecution have rested an...              drama  "
      ]
     },
     "execution_count": 197,
     "metadata": {},
     "output_type": "execute_result"
    }
   ],
   "source": [
    "df.head()"
   ]
  },
  {
   "cell_type": "code",
   "execution_count": 198,
   "id": "065369cb-8bcb-403f-aba3-489e80915615",
   "metadata": {},
   "outputs": [],
   "source": [
    "# Rename columns name\n",
    "df.rename(columns={'title':'Name','overview':'Description','genre_ids':'Genre'},inplace=True)"
   ]
  },
  {
   "cell_type": "code",
   "execution_count": 199,
   "id": "402c4530-5136-47dd-b58d-546981a6fa9c",
   "metadata": {},
   "outputs": [
    {
     "data": {
      "text/html": [
       "<div>\n",
       "<style scoped>\n",
       "    .dataframe tbody tr th:only-of-type {\n",
       "        vertical-align: middle;\n",
       "    }\n",
       "\n",
       "    .dataframe tbody tr th {\n",
       "        vertical-align: top;\n",
       "    }\n",
       "\n",
       "    .dataframe thead th {\n",
       "        text-align: right;\n",
       "    }\n",
       "</style>\n",
       "<table border=\"1\" class=\"dataframe\">\n",
       "  <thead>\n",
       "    <tr style=\"text-align: right;\">\n",
       "      <th></th>\n",
       "      <th>Name</th>\n",
       "      <th>Description</th>\n",
       "      <th>Genre</th>\n",
       "    </tr>\n",
       "  </thead>\n",
       "  <tbody>\n",
       "    <tr>\n",
       "      <th>0</th>\n",
       "      <td>the shawshank redemption</td>\n",
       "      <td>framed in the 1940s for the double murder of h...</td>\n",
       "      <td>drama crime</td>\n",
       "    </tr>\n",
       "    <tr>\n",
       "      <th>1</th>\n",
       "      <td>the godfather</td>\n",
       "      <td>spanning the years 1945 to 1955, a chronicle o...</td>\n",
       "      <td>drama crime</td>\n",
       "    </tr>\n",
       "    <tr>\n",
       "      <th>2</th>\n",
       "      <td>the godfather part ii</td>\n",
       "      <td>in the continuing saga of the corleone crime f...</td>\n",
       "      <td>drama crime</td>\n",
       "    </tr>\n",
       "    <tr>\n",
       "      <th>3</th>\n",
       "      <td>schindler's list</td>\n",
       "      <td>the true story of how businessman oskar schind...</td>\n",
       "      <td>drama history war</td>\n",
       "    </tr>\n",
       "  </tbody>\n",
       "</table>\n",
       "</div>"
      ],
      "text/plain": [
       "                       Name  \\\n",
       "0  the shawshank redemption   \n",
       "1             the godfather   \n",
       "2     the godfather part ii   \n",
       "3          schindler's list   \n",
       "\n",
       "                                         Description              Genre  \n",
       "0  framed in the 1940s for the double murder of h...        drama crime  \n",
       "1  spanning the years 1945 to 1955, a chronicle o...        drama crime  \n",
       "2  in the continuing saga of the corleone crime f...        drama crime  \n",
       "3  the true story of how businessman oskar schind...  drama history war  "
      ]
     },
     "execution_count": 199,
     "metadata": {},
     "output_type": "execute_result"
    }
   ],
   "source": [
    "df.head(4)"
   ]
  },
  {
   "cell_type": "code",
   "execution_count": 200,
   "id": "2f4eee0c-81c0-43a7-8ac9-1d4ef9c17aac",
   "metadata": {},
   "outputs": [],
   "source": [
    "# Remove HTML tags with the help of RegEX Library\n",
    "def remove_html_tags(text):\n",
    "    clean = re.compile('<.*?>')\n",
    "    return re.sub(clean, '', text)"
   ]
  },
  {
   "cell_type": "code",
   "execution_count": 201,
   "id": "2a90ab23-226b-438a-a4f3-574d9b28e9cc",
   "metadata": {},
   "outputs": [],
   "source": [
    "df['Name'] = df['Name'].apply(lambda x: remove_html_tags(x))\n",
    "df['Description'] = df['Description'].apply(lambda x: remove_html_tags(x))"
   ]
  },
  {
   "cell_type": "code",
   "execution_count": 202,
   "id": "12c3147d-8d3a-4fc6-9bf9-dc3565118a33",
   "metadata": {},
   "outputs": [],
   "source": [
    "# Remove URL with the help of RegEX Library\n",
    "def remove_urls(text):\n",
    "    url_pattern = re.compile(r'https?://\\S+|www\\.\\S+')\n",
    "    return url_pattern.sub('', text)"
   ]
  },
  {
   "cell_type": "code",
   "execution_count": 203,
   "id": "6e808a94-f241-4502-97ef-338a489ff7ef",
   "metadata": {},
   "outputs": [],
   "source": [
    "df['Name'] = df['Name'].apply(lambda x: remove_urls(x))\n",
    "df['Description'] = df['Description'].apply(lambda x: remove_urls(x))"
   ]
  },
  {
   "cell_type": "code",
   "execution_count": 204,
   "id": "ad3b2e61-037d-48d3-b3e6-62a678ca5a92",
   "metadata": {},
   "outputs": [],
   "source": [
    "# Remove Punctuation with the help of RegEX Library\n",
    "def remove_punctuation(text):\n",
    "    return re.sub(r'[^\\w\\s]', '', text)"
   ]
  },
  {
   "cell_type": "code",
   "execution_count": 205,
   "id": "5f4276d6-91cf-4c92-8781-09c3cda5512b",
   "metadata": {},
   "outputs": [],
   "source": [
    "df['Name'] = df['Name'].apply(lambda x: remove_punctuation(x))\n",
    "df['Description'] = df['Description'].apply(lambda x: remove_punctuation(x))"
   ]
  },
  {
   "cell_type": "code",
   "execution_count": 206,
   "id": "7f99169c-e1e1-4086-bb94-18014faaa48b",
   "metadata": {},
   "outputs": [
    {
     "data": {
      "text/html": [
       "<div>\n",
       "<style scoped>\n",
       "    .dataframe tbody tr th:only-of-type {\n",
       "        vertical-align: middle;\n",
       "    }\n",
       "\n",
       "    .dataframe tbody tr th {\n",
       "        vertical-align: top;\n",
       "    }\n",
       "\n",
       "    .dataframe thead th {\n",
       "        text-align: right;\n",
       "    }\n",
       "</style>\n",
       "<table border=\"1\" class=\"dataframe\">\n",
       "  <thead>\n",
       "    <tr style=\"text-align: right;\">\n",
       "      <th></th>\n",
       "      <th>Name</th>\n",
       "      <th>Description</th>\n",
       "      <th>Genre</th>\n",
       "    </tr>\n",
       "  </thead>\n",
       "  <tbody>\n",
       "    <tr>\n",
       "      <th>0</th>\n",
       "      <td>the shawshank redemption</td>\n",
       "      <td>framed in the 1940s for the double murder of h...</td>\n",
       "      <td>drama crime</td>\n",
       "    </tr>\n",
       "    <tr>\n",
       "      <th>1</th>\n",
       "      <td>the godfather</td>\n",
       "      <td>spanning the years 1945 to 1955 a chronicle of...</td>\n",
       "      <td>drama crime</td>\n",
       "    </tr>\n",
       "    <tr>\n",
       "      <th>2</th>\n",
       "      <td>the godfather part ii</td>\n",
       "      <td>in the continuing saga of the corleone crime f...</td>\n",
       "      <td>drama crime</td>\n",
       "    </tr>\n",
       "  </tbody>\n",
       "</table>\n",
       "</div>"
      ],
      "text/plain": [
       "                       Name  \\\n",
       "0  the shawshank redemption   \n",
       "1             the godfather   \n",
       "2     the godfather part ii   \n",
       "\n",
       "                                         Description        Genre  \n",
       "0  framed in the 1940s for the double murder of h...  drama crime  \n",
       "1  spanning the years 1945 to 1955 a chronicle of...  drama crime  \n",
       "2  in the continuing saga of the corleone crime f...  drama crime  "
      ]
     },
     "execution_count": 206,
     "metadata": {},
     "output_type": "execute_result"
    }
   ],
   "source": [
    "df.head(3)"
   ]
  },
  {
   "cell_type": "code",
   "execution_count": 207,
   "id": "c47fdbcd-3d74-4d61-860f-c1485b3e50d0",
   "metadata": {},
   "outputs": [],
   "source": [
    "# Import nltk Library for removing stopwords\n",
    "from nltk.corpus import stopwords\n",
    "stopwords = stopwords.words('english')"
   ]
  },
  {
   "cell_type": "code",
   "execution_count": 208,
   "id": "f18c7a83-337e-427f-8441-5d4055075c49",
   "metadata": {},
   "outputs": [],
   "source": [
    "# Function of removing stopwords\n",
    "def remove_stopwords(text):\n",
    "    str = []\n",
    "    for i in text.split():\n",
    "        if i not in stopwords:\n",
    "            str.append(i)\n",
    "    return \" \".join(str)"
   ]
  },
  {
   "cell_type": "code",
   "execution_count": 209,
   "id": "f1fa45b5-88df-4493-8a56-8d5532ab87a0",
   "metadata": {},
   "outputs": [],
   "source": [
    "df['Name'] = df['Name'].apply(lambda x: remove_stopwords(x))\n",
    "df['Description'] = df['Description'].apply(lambda x: remove_stopwords(x))\n",
    "df['Genre'] = df['Genre'].apply(lambda x: remove_stopwords(x))"
   ]
  },
  {
   "cell_type": "code",
   "execution_count": 210,
   "id": "0793e25c-5b4f-4388-ae1d-dfd387dd9a91",
   "metadata": {},
   "outputs": [
    {
     "data": {
      "text/plain": [
       "0       framed 1940s double murder wife lover upstandi...\n",
       "1       spanning years 1945 1955 chronicle fictional i...\n",
       "2       continuing saga corleone crime family young vi...\n",
       "3       true story businessman oskar schindler saved t...\n",
       "4       defense prosecution rested jury filing jury ro...\n",
       "                              ...                        \n",
       "9125    filmmaking team behind hits scary movie date m...\n",
       "9126    year 3000 man match psychlos greedy manipulati...\n",
       "9127    set island coast techno rave party attracts di...\n",
       "9128    18th birthday goku receives mystical dragonbal...\n",
       "9129    platoon eagles vultures attacks residents smal...\n",
       "Name: Description, Length: 9130, dtype: object"
      ]
     },
     "execution_count": 210,
     "metadata": {},
     "output_type": "execute_result"
    }
   ],
   "source": [
    "# Replacing Quatation\n",
    "df['Name'].apply(lambda x: x.replace('\"',\"\"))\n",
    "df['Description'].apply(lambda x: x.replace('\"',\"\"))"
   ]
  },
  {
   "cell_type": "code",
   "execution_count": 211,
   "id": "8af2a99b-00a9-4a7b-a3a0-3808506f8af6",
   "metadata": {},
   "outputs": [
    {
     "data": {
      "text/plain": [
       "0       shawshank redemption framed 1940s double murde...\n",
       "1       godfather spanning years 1945 1955 chronicle f...\n",
       "2       godfather part ii continuing saga corleone cri...\n",
       "3       schindlers list true story businessman oskar s...\n",
       "4       12 angry men defense prosecution rested jury f...\n",
       "                              ...                        \n",
       "9125    disaster movie filmmaking team behind hits sca...\n",
       "9126    battlefield earth year 3000 man match psychlos...\n",
       "9127    house dead set island coast techno rave party ...\n",
       "9128    dragonball evolution 18th birthday goku receiv...\n",
       "9129    birdemic shock terror platoon eagles vultures ...\n",
       "Length: 9130, dtype: object"
      ]
     },
     "execution_count": 211,
     "metadata": {},
     "output_type": "execute_result"
    }
   ],
   "source": [
    "# Concatenate all columns into single columns\n",
    "concatenated = df['Name'] +\" \"+ df['Description'] +\" \"+ df['Genre']\n",
    "concatenated"
   ]
  },
  {
   "cell_type": "code",
   "execution_count": 221,
   "id": "ebf526e7-ddae-4f93-b60c-79aabedc7866",
   "metadata": {},
   "outputs": [
    {
     "data": {
      "text/html": [
       "<div>\n",
       "<style scoped>\n",
       "    .dataframe tbody tr th:only-of-type {\n",
       "        vertical-align: middle;\n",
       "    }\n",
       "\n",
       "    .dataframe tbody tr th {\n",
       "        vertical-align: top;\n",
       "    }\n",
       "\n",
       "    .dataframe thead th {\n",
       "        text-align: right;\n",
       "    }\n",
       "</style>\n",
       "<table border=\"1\" class=\"dataframe\">\n",
       "  <thead>\n",
       "    <tr style=\"text-align: right;\">\n",
       "      <th></th>\n",
       "      <th>Movies_Detail</th>\n",
       "    </tr>\n",
       "  </thead>\n",
       "  <tbody>\n",
       "    <tr>\n",
       "      <th>0</th>\n",
       "      <td>shawshank redemption framed 1940s double murde...</td>\n",
       "    </tr>\n",
       "    <tr>\n",
       "      <th>1</th>\n",
       "      <td>godfather spanning years 1945 1955 chronicle f...</td>\n",
       "    </tr>\n",
       "    <tr>\n",
       "      <th>2</th>\n",
       "      <td>godfather part ii continuing saga corleone cri...</td>\n",
       "    </tr>\n",
       "    <tr>\n",
       "      <th>3</th>\n",
       "      <td>schindlers list true story businessman oskar s...</td>\n",
       "    </tr>\n",
       "  </tbody>\n",
       "</table>\n",
       "</div>"
      ],
      "text/plain": [
       "                                       Movies_Detail\n",
       "0  shawshank redemption framed 1940s double murde...\n",
       "1  godfather spanning years 1945 1955 chronicle f...\n",
       "2  godfather part ii continuing saga corleone cri...\n",
       "3  schindlers list true story businessman oskar s..."
      ]
     },
     "execution_count": 221,
     "metadata": {},
     "output_type": "execute_result"
    }
   ],
   "source": [
    "new_df = pd.DataFrame({'Movies_Detail':concatenated})\n",
    "new_df.head(4)"
   ]
  },
  {
   "cell_type": "code",
   "execution_count": 222,
   "id": "354aa838-3709-46e8-b538-362263e36123",
   "metadata": {},
   "outputs": [],
   "source": [
    "# Import spacy library for tokenize text\n",
    "import spacy\n",
    "nlp = spacy.load(\"en_core_web_sm\")"
   ]
  },
  {
   "cell_type": "code",
   "execution_count": 223,
   "id": "85ab2556-90e2-4fff-a174-97b2e2e9ae0e",
   "metadata": {},
   "outputs": [],
   "source": [
    "# Function of Tokenize of textual data\n",
    "def tekenize_text(text):\n",
    "    doc = nlp(text)\n",
    "    tokens = [token.text for token in doc]\n",
    "    return tokens"
   ]
  },
  {
   "cell_type": "code",
   "execution_count": 225,
   "id": "491db588-7628-4ddb-ab56-2ea1b6bf8e69",
   "metadata": {},
   "outputs": [],
   "source": [
    "new_df['Movies_Detail'] = new_df['Movies_Detail'].apply(lambda x: tekenize_text(x))"
   ]
  },
  {
   "cell_type": "code",
   "execution_count": 226,
   "id": "68aff42b-87e6-4525-8105-ed62b6a3452f",
   "metadata": {},
   "outputs": [
    {
     "data": {
      "text/html": [
       "<div>\n",
       "<style scoped>\n",
       "    .dataframe tbody tr th:only-of-type {\n",
       "        vertical-align: middle;\n",
       "    }\n",
       "\n",
       "    .dataframe tbody tr th {\n",
       "        vertical-align: top;\n",
       "    }\n",
       "\n",
       "    .dataframe thead th {\n",
       "        text-align: right;\n",
       "    }\n",
       "</style>\n",
       "<table border=\"1\" class=\"dataframe\">\n",
       "  <thead>\n",
       "    <tr style=\"text-align: right;\">\n",
       "      <th></th>\n",
       "      <th>Movies_Detail</th>\n",
       "    </tr>\n",
       "  </thead>\n",
       "  <tbody>\n",
       "    <tr>\n",
       "      <th>0</th>\n",
       "      <td>[shawshank, redemption, framed, 1940s, double,...</td>\n",
       "    </tr>\n",
       "    <tr>\n",
       "      <th>1</th>\n",
       "      <td>[godfather, spanning, years, 1945, 1955, chron...</td>\n",
       "    </tr>\n",
       "    <tr>\n",
       "      <th>2</th>\n",
       "      <td>[godfather, part, ii, continuing, saga, corleo...</td>\n",
       "    </tr>\n",
       "    <tr>\n",
       "      <th>3</th>\n",
       "      <td>[schindlers, list, true, story, businessman, o...</td>\n",
       "    </tr>\n",
       "  </tbody>\n",
       "</table>\n",
       "</div>"
      ],
      "text/plain": [
       "                                       Movies_Detail\n",
       "0  [shawshank, redemption, framed, 1940s, double,...\n",
       "1  [godfather, spanning, years, 1945, 1955, chron...\n",
       "2  [godfather, part, ii, continuing, saga, corleo...\n",
       "3  [schindlers, list, true, story, businessman, o..."
      ]
     },
     "execution_count": 226,
     "metadata": {},
     "output_type": "execute_result"
    }
   ],
   "source": [
    "new_df.head(4)"
   ]
  },
  {
   "cell_type": "code",
   "execution_count": 227,
   "id": "91efb1cc-fd77-4e19-a880-4bdd461926da",
   "metadata": {},
   "outputs": [],
   "source": [
    "# Import PosterStemmer module for stemming\n",
    "from nltk.stem import PorterStemmer\n",
    "porter = PorterStemmer()"
   ]
  },
  {
   "cell_type": "code",
   "execution_count": 228,
   "id": "f2c5456a-4646-4460-aeb9-12031717b5a7",
   "metadata": {},
   "outputs": [],
   "source": [
    "# Function of stemming\n",
    "def stemming(text):\n",
    "    stemmed_word = [porter.stem(word) for word in text]\n",
    "    return stemmed_word"
   ]
  },
  {
   "cell_type": "code",
   "execution_count": 229,
   "id": "24719ccb-e2e1-4277-aa47-c2d693094242",
   "metadata": {},
   "outputs": [],
   "source": [
    "new_df['Movies_Detail'] = new_df['Movies_Detail'].apply(lambda x: stemming(x))"
   ]
  },
  {
   "cell_type": "code",
   "execution_count": 232,
   "id": "e6bfafb5-9975-41aa-856c-05ab2b6e73c7",
   "metadata": {},
   "outputs": [
    {
     "data": {
      "text/html": [
       "<div>\n",
       "<style scoped>\n",
       "    .dataframe tbody tr th:only-of-type {\n",
       "        vertical-align: middle;\n",
       "    }\n",
       "\n",
       "    .dataframe tbody tr th {\n",
       "        vertical-align: top;\n",
       "    }\n",
       "\n",
       "    .dataframe thead th {\n",
       "        text-align: right;\n",
       "    }\n",
       "</style>\n",
       "<table border=\"1\" class=\"dataframe\">\n",
       "  <thead>\n",
       "    <tr style=\"text-align: right;\">\n",
       "      <th></th>\n",
       "      <th>Movies_Detail</th>\n",
       "    </tr>\n",
       "  </thead>\n",
       "  <tbody>\n",
       "    <tr>\n",
       "      <th>0</th>\n",
       "      <td>[shawshank, redempt, frame, 1940, doubl, murde...</td>\n",
       "    </tr>\n",
       "    <tr>\n",
       "      <th>1</th>\n",
       "      <td>[godfath, span, year, 1945, 1955, chronicl, fi...</td>\n",
       "    </tr>\n",
       "    <tr>\n",
       "      <th>2</th>\n",
       "      <td>[godfath, part, ii, continu, saga, corleon, cr...</td>\n",
       "    </tr>\n",
       "    <tr>\n",
       "      <th>3</th>\n",
       "      <td>[schindler, list, true, stori, businessman, os...</td>\n",
       "    </tr>\n",
       "  </tbody>\n",
       "</table>\n",
       "</div>"
      ],
      "text/plain": [
       "                                       Movies_Detail\n",
       "0  [shawshank, redempt, frame, 1940, doubl, murde...\n",
       "1  [godfath, span, year, 1945, 1955, chronicl, fi...\n",
       "2  [godfath, part, ii, continu, saga, corleon, cr...\n",
       "3  [schindler, list, true, stori, businessman, os..."
      ]
     },
     "execution_count": 232,
     "metadata": {},
     "output_type": "execute_result"
    }
   ],
   "source": [
    "new_df.head(4)"
   ]
  },
  {
   "cell_type": "markdown",
   "id": "c19ad105-e64a-48b3-8b19-2c271d59e713",
   "metadata": {},
   "source": [
    "### Text Cleaning for NLP"
   ]
  },
  {
   "cell_type": "markdown",
   "id": "b689fb52-1d0f-4ac7-8135-2210e9e36edf",
   "metadata": {},
   "source": [
    "# Final Assignment"
   ]
  }
 ],
 "metadata": {
  "kernelspec": {
   "display_name": "Python 3 (ipykernel)",
   "language": "python",
   "name": "python3"
  },
  "language_info": {
   "codemirror_mode": {
    "name": "ipython",
    "version": 3
   },
   "file_extension": ".py",
   "mimetype": "text/x-python",
   "name": "python",
   "nbconvert_exporter": "python",
   "pygments_lexer": "ipython3",
   "version": "3.11.4"
  }
 },
 "nbformat": 4,
 "nbformat_minor": 5
}
